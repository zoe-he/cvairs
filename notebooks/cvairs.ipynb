{
 "cells": [
  {
   "cell_type": "markdown",
   "source": [
    "# cvairs\n",
    "## Credit valuation adjustment (CVA) for interest rate swap (IRS)\n",
    "Calculate CVAs for counterparties entering an IRS."
   ],
   "metadata": {
    "collapsed": false
   },
   "id": "eb5dc42c8926142c"
  },
  {
   "cell_type": "code",
   "execution_count": 1,
   "outputs": [],
   "source": [
    "import csv"
   ],
   "metadata": {
    "collapsed": false,
    "ExecuteTime": {
     "end_time": "2023-11-13T02:58:21.632118Z",
     "start_time": "2023-11-13T02:58:21.540688Z"
    }
   },
   "id": "97f2fe5791d76e7b"
  },
  {
   "cell_type": "code",
   "execution_count": 2,
   "outputs": [],
   "source": [
    "from cvairs import CCR, CVA, IRSExposure, VasicekModel"
   ],
   "metadata": {
    "collapsed": false,
    "ExecuteTime": {
     "end_time": "2023-11-13T02:58:21.652298Z",
     "start_time": "2023-11-13T02:58:21.559037Z"
    }
   },
   "id": "f4e06c4f6a46fab3"
  },
  {
   "cell_type": "code",
   "execution_count": 3,
   "outputs": [],
   "source": [
    "def params_from_csv(file):\n",
    "    with open(file, newline='') as params_file:\n",
    "        reader = csv.reader(params_file)\n",
    "        next(reader)  # Skip main params header.\n",
    "        params = []  # [Value: float]\n",
    "        for row in reader:\n",
    "            if not row[1]:\n",
    "                break\n",
    "            params.append(float(row[1]))\n",
    "        next(reader)  # Skip credit curve header.\n",
    "        # [(Time: years, Credit spread: bps)]\n",
    "        credit_curve = [(float(row[0]), float(row[1])) for row in reader]\n",
    "        return params, credit_curve"
   ],
   "metadata": {
    "collapsed": false,
    "ExecuteTime": {
     "end_time": "2023-11-13T02:58:21.653153Z",
     "start_time": "2023-11-13T02:58:21.574493Z"
    }
   },
   "id": "6203e73f972fbd9b"
  },
  {
   "cell_type": "code",
   "execution_count": 4,
   "outputs": [],
   "source": [
    "params, credit_curve = params_from_csv('../data/params.csv')\n",
    "dt, LGD = params[5], params[11]"
   ],
   "metadata": {
    "collapsed": false,
    "ExecuteTime": {
     "end_time": "2023-11-13T02:58:21.654025Z",
     "start_time": "2023-11-13T02:58:21.585739Z"
    }
   },
   "id": "642f5e05dea5bac7"
  },
  {
   "cell_type": "markdown",
   "source": [
    "### Vašíček model\n",
    "Generate short‑term interest rates to calculate zero‑coupon bond prices using the discrete‑time Vašíček model."
   ],
   "metadata": {
    "collapsed": false
   },
   "id": "d0de02550b8344af"
  },
  {
   "cell_type": "code",
   "execution_count": 5,
   "outputs": [],
   "source": [
    "model = VasicekModel(*params[:9])"
   ],
   "metadata": {
    "collapsed": false,
    "ExecuteTime": {
     "end_time": "2023-11-13T02:58:21.654785Z",
     "start_time": "2023-11-13T02:58:21.615659Z"
    }
   },
   "id": "e819432ee42fd8df"
  },
  {
   "cell_type": "markdown",
   "source": [
    "### Interest rate swap (IRS) exposure\n",
    "Simulate swap market‑to‑market values estimate expected and potential future exposures of a counterparty entering an IRS (as a fixed pay receiver by default)."
   ],
   "metadata": {
    "collapsed": false
   },
   "id": "b7335474a2b9970"
  },
  {
   "cell_type": "code",
   "execution_count": 6,
   "outputs": [],
   "source": [
    "exposure = IRSExposure(*params[9:11], model)\n",
    "mtms = exposure.market_to_market_simulations()\n",
    "EE = exposure.expected_exposures(mtms)"
   ],
   "metadata": {
    "collapsed": false,
    "ExecuteTime": {
     "end_time": "2023-11-13T02:58:23.961061Z",
     "start_time": "2023-11-13T02:58:21.675946Z"
    }
   },
   "id": "75de105a509854ef"
  },
  {
   "cell_type": "markdown",
   "source": [
    "### Counterparty credit risk (CCR)\n",
    "Interpolate a credit curve using cubic spline to calculate probabilities of default."
   ],
   "metadata": {
    "collapsed": false
   },
   "id": "2c9a2ba70c6eadcc"
  },
  {
   "cell_type": "code",
   "execution_count": 7,
   "outputs": [],
   "source": [
    "x, y = zip(*credit_curve)\n",
    "t, S = CCR.cubic_spline(x, y, dt)\n",
    "PD = CCR.default_probabilities(t, S, LGD)"
   ],
   "metadata": {
    "collapsed": false,
    "ExecuteTime": {
     "end_time": "2023-11-13T02:58:23.972194Z",
     "start_time": "2023-11-13T02:58:23.961458Z"
    }
   },
   "id": "33040e51dc2f5631"
  },
  {
   "cell_type": "markdown",
   "source": [
    "### Credit value adjustment (CVA)\n",
    "Calculate a CVA for a counterparty entering an IRS."
   ],
   "metadata": {
    "collapsed": false
   },
   "id": "4100bdc6d994d61c"
  },
  {
   "cell_type": "code",
   "execution_count": 8,
   "outputs": [
    {
     "data": {
      "text/plain": "[('CVA', -0.004597763302919525),\n ('Risky Duration', 7.7858195152470735),\n ('CVA (bps) Approximation 1', -5.905304244358175),\n ('EPE', 0.018959879414417808),\n ('CVA (bps) Approximation 2', -5.953402136127192)]"
     },
     "execution_count": 8,
     "metadata": {},
     "output_type": "execute_result"
    }
   ],
   "source": [
    "cva = CVA.cva(LGD, EE, PD)\n",
    "risky_duration = CVA.risky_duration(S, LGD)\n",
    "cva_bps_approx1 = CVA.cva_bps_approx1(cva, risky_duration)\n",
    "epe = CVA.epe(EE)\n",
    "cva_bps_approx2 = CVA.cva_bps_approx2(epe, S)\n",
    "cva_values = [('CVA', cva), ('Risky Duration', risky_duration),\n",
    "              ('CVA (bps) Approximation 1', cva_bps_approx1), ('EPE', epe),\n",
    "              ('CVA (bps) Approximation 2', cva_bps_approx2)]\n",
    "\n",
    "cva_values"
   ],
   "metadata": {
    "collapsed": false,
    "ExecuteTime": {
     "end_time": "2023-11-13T02:58:24.022167Z",
     "start_time": "2023-11-13T02:58:23.976962Z"
    }
   },
   "id": "40aafcfdf0cefef6"
  },
  {
   "cell_type": "code",
   "execution_count": 9,
   "outputs": [
    {
     "name": "stdout",
     "output_type": "stream",
     "text": [
      "Time Interp. credit curve Prob default EE\n",
      "0.0  0.0000000000         0.0000000000 0.0035155340\n",
      "0.25 58.1352690077        0.0024193715 0.0122921493\n",
      "0.5  113.0164304124       0.0069544536 0.0162298611\n",
      "0.75 161.3893766108       0.0105977200 0.0185816937\n",
      "1.0  200.0000000000       0.0128123545 0.0209179393\n",
      "1.25 226.4810124034       0.0133038041 0.0218192094\n",
      "1.5  242.0124033505       0.0126214462 0.0232771328\n",
      "1.75 248.6609817977       0.0112493963 0.0248047969\n",
      "2.0  248.4935567010       0.0095349251 0.0253862688\n",
      "2.25 243.5769370168       0.0078004247 0.0268820313\n",
      "2.5  235.9779317010       0.0063510324 0.0271761748\n",
      "2.75 227.7633497101       0.0054825668 0.0272250876\n",
      "3.0  221.0000000000       0.0054861748 0.0276324591\n",
      "3.25 217.3188426224       0.0064364058 0.0276754193\n",
      "3.5  216.6074420103       0.0076474147 0.0274468444\n",
      "3.75 218.3175136920       0.0088512123 0.0272388207\n",
      "4.0  221.9007731959       0.0099631297 0.0266128960\n",
      "4.25 226.8089360503       0.0109034825 0.0260493614\n",
      "4.5  232.4937177835       0.0115988821 0.0258395585\n",
      "4.75 238.4068339240       0.0119830036 0.0250812934\n",
      "5.0  244.0000000000       0.0119966055 0.0250944178\n",
      "5.25 248.8393202320       0.0116671525 0.0238509935\n",
      "5.5  252.9484536082       0.0112893653 0.0237684177\n",
      "5.75 256.4654478093       0.0109549305 0.0240852156\n",
      "6.0  259.5283505155       0.0106794081 0.0228848312\n",
      "6.25 262.2752094072       0.0104772973 0.0215306807\n",
      "6.5  264.8440721649       0.0103620736 0.0208158013\n",
      "6.75 267.3729864691       0.0103461737 0.0198948331\n",
      "7.0  270.0000000000       0.0104409188 0.0188660760\n",
      "7.25 272.8368726733       0.0106335294 0.0178509904\n",
      "7.5  275.8902133448       0.0108377933 0.0164928391\n",
      "7.75 279.1403431057       0.0110292185 0.0150444179\n",
      "8.0  282.5675830470       0.0112054086 0.0136855527\n",
      "8.25 286.1522542597       0.0113641799 0.0122195804\n",
      "8.5  289.8746778351       0.0115035694 0.0108794848\n",
      "8.75 293.7151748640       0.0116218396 0.0092275517\n",
      "9.0  297.6540664376       0.0117174817 0.0075378519\n",
      "9.25 301.6716736469       0.0117892160 0.0058365731\n",
      "9.5  305.7483175830       0.0118359904 0.0040499085\n",
      "9.75 309.8643193371       0.0118569758 0.0020545069\n",
      "10.0 314.0000000000       0.0118515597 0.0000000000\n"
     ]
    }
   ],
   "source": [
    "headers = ['Time', 'Interp. credit curve', 'Prob default', 'EE']\n",
    "row_widths = [len(header) for header in headers]\n",
    "print(*headers)\n",
    "print(*[f'{t[i]:<{row_widths[0]}} {S[i]:<{row_widths[1]}.10f} {PD[i]:<{row_widths[2]}.10f} {EE[i]:.10f}'\n",
    "        for i in range(len(t))], sep='\\n')"
   ],
   "metadata": {
    "collapsed": false,
    "ExecuteTime": {
     "end_time": "2023-11-13T02:58:24.035026Z",
     "start_time": "2023-11-13T02:58:23.983867Z"
    }
   },
   "id": "fa1d6c563ea06428"
  }
 ],
 "metadata": {
  "kernelspec": {
   "display_name": "Python 3",
   "language": "python",
   "name": "python3"
  },
  "language_info": {
   "codemirror_mode": {
    "name": "ipython",
    "version": 2
   },
   "file_extension": ".py",
   "mimetype": "text/x-python",
   "name": "python",
   "nbconvert_exporter": "python",
   "pygments_lexer": "ipython2",
   "version": "2.7.6"
  }
 },
 "nbformat": 4,
 "nbformat_minor": 5
}
